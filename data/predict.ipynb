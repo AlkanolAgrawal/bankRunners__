{
 "cells": [
  {
   "cell_type": "code",
   "execution_count": 51,
   "id": "56d6a9a0",
   "metadata": {},
   "outputs": [],
   "source": [
    "import tensorflow as tf \n",
    "from tensorflow.keras.models import load_model\n",
    "import pickle \n",
    "import pandas as pd \n",
    "import numpy as np \n"
   ]
  },
  {
   "cell_type": "code",
   "execution_count": 52,
   "id": "c7d7eb31",
   "metadata": {},
   "outputs": [
    {
     "name": "stderr",
     "output_type": "stream",
     "text": [
      "WARNING:absl:Compiled the loaded model, but the compiled metrics have yet to be built. `model.compile_metrics` will be empty until you train or evaluate the model.\n"
     ]
    }
   ],
   "source": [
    "ann_model = load_model(\"/home/alkanol/Desktop/bankRunners/artifacts/ann_model.h5\")\n",
    "\n",
    "with open('/home/alkanol/Desktop/bankRunners/artifacts/OneHotEncoder_Geography.pkl', 'rb') as f:\n",
    "    oHEGeo = pickle.load(f)\n",
    "\n",
    "with open('/home/alkanol/Desktop/bankRunners/artifacts/Label_Encoder_Gender.pkl', 'rb') as f:\n",
    "    labEnco = pickle.load(f)\n",
    "\n",
    "with open('/home/alkanol/Desktop/bankRunners/artifacts/scaler.pkl', 'rb') as f:\n",
    "    scaler = pickle.load(f)\n"
   ]
  },
  {
   "cell_type": "code",
   "execution_count": 53,
   "id": "707bc635",
   "metadata": {},
   "outputs": [],
   "source": [
    "input_data ={\n",
    "    'CreditScore':600,\n",
    "    'Geography': 'France',\n",
    "    'Gender': 'Male',\n",
    "    'Age': 40,\n",
    "    'Tenure': 3,\n",
    "    'Balance': 60000,\n",
    "    'NumOfProducts': 2,\n",
    "    'HasCrCard': 1,\n",
    "    'IsActiveMember': 1,\n",
    "    'EstimatedSalary': 50000\n",
    "}"
   ]
  },
  {
   "cell_type": "code",
   "execution_count": 54,
   "id": "f4e39800",
   "metadata": {},
   "outputs": [
    {
     "name": "stdout",
     "output_type": "stream",
     "text": [
      "   CreditScore Gender  ...  Geography_Germany  Geography_Spain\n",
      "0          600   Male  ...                0.0              0.0\n",
      "\n",
      "[1 rows x 12 columns]\n"
     ]
    }
   ],
   "source": [
    "input_df = pd.DataFrame([input_data])\n",
    "new_data=oHEGeo.transform(input_df[['Geography']]).toarray()\n",
    "new_df = pd.DataFrame(new_data,columns=oHEGeo.get_feature_names_out())\n",
    "input_df = pd.concat([input_df.drop(columns=['Geography']), new_df], axis=1)\n",
    "print(input_df)"
   ]
  },
  {
   "cell_type": "code",
   "execution_count": 55,
   "id": "eeab8818",
   "metadata": {},
   "outputs": [
    {
     "name": "stdout",
     "output_type": "stream",
     "text": [
      "   CreditScore  Gender  ...  Geography_Germany  Geography_Spain\n",
      "0          600       1  ...                0.0              0.0\n",
      "\n",
      "[1 rows x 12 columns]\n"
     ]
    },
    {
     "name": "stderr",
     "output_type": "stream",
     "text": [
      "/home/alkanol/Desktop/bankRunners/.venv/lib/python3.11/site-packages/sklearn/preprocessing/_label.py:129: DataConversionWarning: A column-vector y was passed when a 1d array was expected. Please change the shape of y to (n_samples, ), for example using ravel().\n",
      "  y = column_or_1d(y, dtype=self.classes_.dtype, warn=True)\n"
     ]
    }
   ],
   "source": [
    "input_df['Gender']=labEnco.transform(input_df[['Gender']])\n",
    "print(input_df)"
   ]
  },
  {
   "cell_type": "code",
   "execution_count": 61,
   "id": "6b132511",
   "metadata": {},
   "outputs": [
    {
     "name": "stdout",
     "output_type": "stream",
     "text": [
      "\u001b[1m1/1\u001b[0m \u001b[32m━━━━━━━━━━━━━━━━━━━━\u001b[0m\u001b[37m\u001b[0m \u001b[1m0s\u001b[0m 75ms/step\n",
      "The customer is likely not going to churn from the bank, with prediction rate of [[0.0205]]\n"
     ]
    }
   ],
   "source": [
    "scaled_data = scaler.transform(input_df)\n",
    "prediction = ann_model.predict(scaled_data)\n",
    "if prediction > 0.5:\n",
    "    print(\"The customer is likely going to churn from the bank, with prediction rate of \"+str(prediction.round(4)))\n",
    "else:\n",
    "    print(\"The customer is likely not going to churn from the bank, with prediction rate of \"+str(prediction.round(4)))"
   ]
  },
  {
   "cell_type": "code",
   "execution_count": null,
   "id": "c07a7b27",
   "metadata": {},
   "outputs": [],
   "source": []
  },
  {
   "cell_type": "code",
   "execution_count": null,
   "id": "803b9971",
   "metadata": {},
   "outputs": [],
   "source": []
  }
 ],
 "metadata": {
  "kernelspec": {
   "display_name": ".venv (3.11.2)",
   "language": "python",
   "name": "python3"
  },
  "language_info": {
   "codemirror_mode": {
    "name": "ipython",
    "version": 3
   },
   "file_extension": ".py",
   "mimetype": "text/x-python",
   "name": "python",
   "nbconvert_exporter": "python",
   "pygments_lexer": "ipython3",
   "version": "3.11.2"
  }
 },
 "nbformat": 4,
 "nbformat_minor": 5
}
