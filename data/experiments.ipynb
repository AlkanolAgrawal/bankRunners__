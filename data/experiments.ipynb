{
 "cells": [
  {
   "cell_type": "code",
   "execution_count": 116,
   "id": "538ff973",
   "metadata": {},
   "outputs": [],
   "source": [
    "import pandas as pd\n",
    "from sklearn.model_selection import train_test_split\n",
    "from sklearn.preprocessing import StandardScaler,LabelEncoder,OneHotEncoder\n",
    "import pickle"
   ]
  },
  {
   "cell_type": "code",
   "execution_count": 117,
   "id": "db2cdfcc",
   "metadata": {},
   "outputs": [
    {
     "data": {
      "application/vnd.microsoft.datawrangler.viewer.v0+json": {
       "columns": [
        {
         "name": "index",
         "rawType": "int64",
         "type": "integer"
        },
        {
         "name": "RowNumber",
         "rawType": "int64",
         "type": "integer"
        },
        {
         "name": "CustomerId",
         "rawType": "int64",
         "type": "integer"
        },
        {
         "name": "Surname",
         "rawType": "object",
         "type": "string"
        },
        {
         "name": "CreditScore",
         "rawType": "int64",
         "type": "integer"
        },
        {
         "name": "Geography",
         "rawType": "object",
         "type": "string"
        },
        {
         "name": "Gender",
         "rawType": "object",
         "type": "string"
        },
        {
         "name": "Age",
         "rawType": "int64",
         "type": "integer"
        },
        {
         "name": "Tenure",
         "rawType": "int64",
         "type": "integer"
        },
        {
         "name": "Balance",
         "rawType": "float64",
         "type": "float"
        },
        {
         "name": "NumOfProducts",
         "rawType": "int64",
         "type": "integer"
        },
        {
         "name": "HasCrCard",
         "rawType": "int64",
         "type": "integer"
        },
        {
         "name": "IsActiveMember",
         "rawType": "int64",
         "type": "integer"
        },
        {
         "name": "EstimatedSalary",
         "rawType": "float64",
         "type": "float"
        },
        {
         "name": "Exited",
         "rawType": "int64",
         "type": "integer"
        }
       ],
       "ref": "f39ade44-8f52-4ec5-a69d-542bbc81113e",
       "rows": [
        [
         "0",
         "1",
         "15634602",
         "Hargrave",
         "619",
         "France",
         "Female",
         "42",
         "2",
         "0.0",
         "1",
         "1",
         "1",
         "101348.88",
         "1"
        ],
        [
         "1",
         "2",
         "15647311",
         "Hill",
         "608",
         "Spain",
         "Female",
         "41",
         "1",
         "83807.86",
         "1",
         "0",
         "1",
         "112542.58",
         "0"
        ],
        [
         "2",
         "3",
         "15619304",
         "Onio",
         "502",
         "France",
         "Female",
         "42",
         "8",
         "159660.8",
         "3",
         "1",
         "0",
         "113931.57",
         "1"
        ],
        [
         "3",
         "4",
         "15701354",
         "Boni",
         "699",
         "France",
         "Female",
         "39",
         "1",
         "0.0",
         "2",
         "0",
         "0",
         "93826.63",
         "0"
        ],
        [
         "4",
         "5",
         "15737888",
         "Mitchell",
         "850",
         "Spain",
         "Female",
         "43",
         "2",
         "125510.82",
         "1",
         "1",
         "1",
         "79084.1",
         "0"
        ]
       ],
       "shape": {
        "columns": 14,
        "rows": 5
       }
      },
      "text/html": [
       "<div>\n",
       "<style scoped>\n",
       "    .dataframe tbody tr th:only-of-type {\n",
       "        vertical-align: middle;\n",
       "    }\n",
       "\n",
       "    .dataframe tbody tr th {\n",
       "        vertical-align: top;\n",
       "    }\n",
       "\n",
       "    .dataframe thead th {\n",
       "        text-align: right;\n",
       "    }\n",
       "</style>\n",
       "<table border=\"1\" class=\"dataframe\">\n",
       "  <thead>\n",
       "    <tr style=\"text-align: right;\">\n",
       "      <th></th>\n",
       "      <th>RowNumber</th>\n",
       "      <th>CustomerId</th>\n",
       "      <th>Surname</th>\n",
       "      <th>CreditScore</th>\n",
       "      <th>Geography</th>\n",
       "      <th>Gender</th>\n",
       "      <th>Age</th>\n",
       "      <th>Tenure</th>\n",
       "      <th>Balance</th>\n",
       "      <th>NumOfProducts</th>\n",
       "      <th>HasCrCard</th>\n",
       "      <th>IsActiveMember</th>\n",
       "      <th>EstimatedSalary</th>\n",
       "      <th>Exited</th>\n",
       "    </tr>\n",
       "  </thead>\n",
       "  <tbody>\n",
       "    <tr>\n",
       "      <th>0</th>\n",
       "      <td>1</td>\n",
       "      <td>15634602</td>\n",
       "      <td>Hargrave</td>\n",
       "      <td>619</td>\n",
       "      <td>France</td>\n",
       "      <td>Female</td>\n",
       "      <td>42</td>\n",
       "      <td>2</td>\n",
       "      <td>0.00</td>\n",
       "      <td>1</td>\n",
       "      <td>1</td>\n",
       "      <td>1</td>\n",
       "      <td>101348.88</td>\n",
       "      <td>1</td>\n",
       "    </tr>\n",
       "    <tr>\n",
       "      <th>1</th>\n",
       "      <td>2</td>\n",
       "      <td>15647311</td>\n",
       "      <td>Hill</td>\n",
       "      <td>608</td>\n",
       "      <td>Spain</td>\n",
       "      <td>Female</td>\n",
       "      <td>41</td>\n",
       "      <td>1</td>\n",
       "      <td>83807.86</td>\n",
       "      <td>1</td>\n",
       "      <td>0</td>\n",
       "      <td>1</td>\n",
       "      <td>112542.58</td>\n",
       "      <td>0</td>\n",
       "    </tr>\n",
       "    <tr>\n",
       "      <th>2</th>\n",
       "      <td>3</td>\n",
       "      <td>15619304</td>\n",
       "      <td>Onio</td>\n",
       "      <td>502</td>\n",
       "      <td>France</td>\n",
       "      <td>Female</td>\n",
       "      <td>42</td>\n",
       "      <td>8</td>\n",
       "      <td>159660.80</td>\n",
       "      <td>3</td>\n",
       "      <td>1</td>\n",
       "      <td>0</td>\n",
       "      <td>113931.57</td>\n",
       "      <td>1</td>\n",
       "    </tr>\n",
       "    <tr>\n",
       "      <th>3</th>\n",
       "      <td>4</td>\n",
       "      <td>15701354</td>\n",
       "      <td>Boni</td>\n",
       "      <td>699</td>\n",
       "      <td>France</td>\n",
       "      <td>Female</td>\n",
       "      <td>39</td>\n",
       "      <td>1</td>\n",
       "      <td>0.00</td>\n",
       "      <td>2</td>\n",
       "      <td>0</td>\n",
       "      <td>0</td>\n",
       "      <td>93826.63</td>\n",
       "      <td>0</td>\n",
       "    </tr>\n",
       "    <tr>\n",
       "      <th>4</th>\n",
       "      <td>5</td>\n",
       "      <td>15737888</td>\n",
       "      <td>Mitchell</td>\n",
       "      <td>850</td>\n",
       "      <td>Spain</td>\n",
       "      <td>Female</td>\n",
       "      <td>43</td>\n",
       "      <td>2</td>\n",
       "      <td>125510.82</td>\n",
       "      <td>1</td>\n",
       "      <td>1</td>\n",
       "      <td>1</td>\n",
       "      <td>79084.10</td>\n",
       "      <td>0</td>\n",
       "    </tr>\n",
       "  </tbody>\n",
       "</table>\n",
       "</div>"
      ],
      "text/plain": [
       "   RowNumber  CustomerId   Surname  CreditScore Geography  Gender  Age  \\\n",
       "0          1    15634602  Hargrave          619    France  Female   42   \n",
       "1          2    15647311      Hill          608     Spain  Female   41   \n",
       "2          3    15619304      Onio          502    France  Female   42   \n",
       "3          4    15701354      Boni          699    France  Female   39   \n",
       "4          5    15737888  Mitchell          850     Spain  Female   43   \n",
       "\n",
       "   Tenure    Balance  NumOfProducts  HasCrCard  IsActiveMember  \\\n",
       "0       2       0.00              1          1               1   \n",
       "1       1   83807.86              1          0               1   \n",
       "2       8  159660.80              3          1               0   \n",
       "3       1       0.00              2          0               0   \n",
       "4       2  125510.82              1          1               1   \n",
       "\n",
       "   EstimatedSalary  Exited  \n",
       "0        101348.88       1  \n",
       "1        112542.58       0  \n",
       "2        113931.57       1  \n",
       "3         93826.63       0  \n",
       "4         79084.10       0  "
      ]
     },
     "execution_count": 117,
     "metadata": {},
     "output_type": "execute_result"
    }
   ],
   "source": [
    "data=pd.read_csv(\"Churn_Modelling.csv\")\n",
    "data.head()"
   ]
  },
  {
   "cell_type": "code",
   "execution_count": 118,
   "id": "7cc4ff6b",
   "metadata": {},
   "outputs": [
    {
     "name": "stdout",
     "output_type": "stream",
     "text": [
      "   CreditScore Geography  Gender  Age  Tenure    Balance  NumOfProducts  \\\n",
      "0          619    France  Female   42       2       0.00              1   \n",
      "1          608     Spain  Female   41       1   83807.86              1   \n",
      "2          502    France  Female   42       8  159660.80              3   \n",
      "3          699    France  Female   39       1       0.00              2   \n",
      "4          850     Spain  Female   43       2  125510.82              1   \n",
      "\n",
      "   HasCrCard  IsActiveMember  EstimatedSalary  \n",
      "0          1               1        101348.88  \n",
      "1          0               1        112542.58  \n",
      "2          1               0        113931.57  \n",
      "3          0               0         93826.63  \n",
      "4          1               1         79084.10  \n",
      "0    1\n",
      "1    0\n",
      "2    1\n",
      "3    0\n",
      "4    0\n",
      "Name: Exited, dtype: int64\n"
     ]
    }
   ],
   "source": [
    "##data.head() shows that RowNumber,CustomerId,Surname are not useful for prediction\n",
    "X=data.drop(['RowNumber','CustomerId','Surname','Exited'],axis=1)\n",
    "y=data['Exited']\n",
    "print(X.head())\n",
    "print(y.head())"
   ]
  },
  {
   "cell_type": "code",
   "execution_count": 119,
   "id": "61908dc3",
   "metadata": {},
   "outputs": [
    {
     "name": "stdout",
     "output_type": "stream",
     "text": [
      "<class 'pandas.core.frame.DataFrame'>\n",
      "RangeIndex: 10000 entries, 0 to 9999\n",
      "Data columns (total 10 columns):\n",
      " #   Column           Non-Null Count  Dtype  \n",
      "---  ------           --------------  -----  \n",
      " 0   CreditScore      10000 non-null  int64  \n",
      " 1   Geography        10000 non-null  object \n",
      " 2   Gender           10000 non-null  object \n",
      " 3   Age              10000 non-null  int64  \n",
      " 4   Tenure           10000 non-null  int64  \n",
      " 5   Balance          10000 non-null  float64\n",
      " 6   NumOfProducts    10000 non-null  int64  \n",
      " 7   HasCrCard        10000 non-null  int64  \n",
      " 8   IsActiveMember   10000 non-null  int64  \n",
      " 9   EstimatedSalary  10000 non-null  float64\n",
      "dtypes: float64(2), int64(6), object(2)\n",
      "memory usage: 781.4+ KB\n",
      "<class 'pandas.core.series.Series'>\n",
      "RangeIndex: 10000 entries, 0 to 9999\n",
      "Series name: Exited\n",
      "Non-Null Count  Dtype\n",
      "--------------  -----\n",
      "10000 non-null  int64\n",
      "dtypes: int64(1)\n",
      "memory usage: 78.3 KB\n"
     ]
    }
   ],
   "source": [
    "X.info()    \n",
    "y.info()"
   ]
  },
  {
   "cell_type": "code",
   "execution_count": 120,
   "id": "53ab38f7",
   "metadata": {},
   "outputs": [
    {
     "name": "stdout",
     "output_type": "stream",
     "text": [
      "['Geography', 'Gender']\n",
      "['CreditScore', 'Age', 'Tenure', 'Balance', 'NumOfProducts', 'HasCrCard', 'IsActiveMember', 'EstimatedSalary']\n"
     ]
    }
   ],
   "source": [
    "cat_features = [col for col in X.columns if X[col].dtype == 'object']\n",
    "num_features = [col for col in X.columns if X[col].dtype != 'object']\n",
    "print(cat_features)\n",
    "print(num_features)"
   ]
  },
  {
   "cell_type": "code",
   "execution_count": 121,
   "id": "eae4d330",
   "metadata": {},
   "outputs": [
    {
     "data": {
      "application/vnd.microsoft.datawrangler.viewer.v0+json": {
       "columns": [
        {
         "name": "index",
         "rawType": "object",
         "type": "string"
        },
        {
         "name": "0",
         "rawType": "int64",
         "type": "integer"
        }
       ],
       "ref": "b6b76225-d2d5-4cc0-ac79-221cc3d37ead",
       "rows": [
        [
         "RowNumber",
         "10000"
        ],
        [
         "CustomerId",
         "10000"
        ],
        [
         "Surname",
         "2932"
        ],
        [
         "CreditScore",
         "460"
        ],
        [
         "Geography",
         "3"
        ],
        [
         "Gender",
         "2"
        ],
        [
         "Age",
         "70"
        ],
        [
         "Tenure",
         "11"
        ],
        [
         "Balance",
         "6382"
        ],
        [
         "NumOfProducts",
         "4"
        ],
        [
         "HasCrCard",
         "2"
        ],
        [
         "IsActiveMember",
         "2"
        ],
        [
         "EstimatedSalary",
         "9999"
        ],
        [
         "Exited",
         "2"
        ]
       ],
       "shape": {
        "columns": 1,
        "rows": 14
       }
      },
      "text/plain": [
       "RowNumber          10000\n",
       "CustomerId         10000\n",
       "Surname             2932\n",
       "CreditScore          460\n",
       "Geography              3\n",
       "Gender                 2\n",
       "Age                   70\n",
       "Tenure                11\n",
       "Balance             6382\n",
       "NumOfProducts          4\n",
       "HasCrCard              2\n",
       "IsActiveMember         2\n",
       "EstimatedSalary     9999\n",
       "Exited                 2\n",
       "dtype: int64"
      ]
     },
     "execution_count": 121,
     "metadata": {},
     "output_type": "execute_result"
    }
   ],
   "source": [
    "data.nunique()"
   ]
  },
  {
   "cell_type": "code",
   "execution_count": 122,
   "id": "38dd850e",
   "metadata": {},
   "outputs": [
    {
     "data": {
      "application/vnd.microsoft.datawrangler.viewer.v0+json": {
       "columns": [
        {
         "name": "index",
         "rawType": "int64",
         "type": "integer"
        },
        {
         "name": "Geography",
         "rawType": "object",
         "type": "string"
        },
        {
         "name": "Gender",
         "rawType": "int64",
         "type": "integer"
        }
       ],
       "ref": "2a177825-d411-4d46-964d-60912c177797",
       "rows": [
        [
         "0",
         "France",
         "0"
        ],
        [
         "1",
         "Spain",
         "0"
        ],
        [
         "2",
         "France",
         "0"
        ],
        [
         "3",
         "France",
         "0"
        ],
        [
         "4",
         "Spain",
         "0"
        ],
        [
         "5",
         "Spain",
         "1"
        ],
        [
         "6",
         "France",
         "1"
        ],
        [
         "7",
         "Germany",
         "0"
        ],
        [
         "8",
         "France",
         "1"
        ],
        [
         "9",
         "France",
         "1"
        ],
        [
         "10",
         "France",
         "1"
        ],
        [
         "11",
         "Spain",
         "1"
        ],
        [
         "12",
         "France",
         "0"
        ],
        [
         "13",
         "France",
         "0"
        ],
        [
         "14",
         "Spain",
         "0"
        ],
        [
         "15",
         "Germany",
         "1"
        ],
        [
         "16",
         "Germany",
         "1"
        ],
        [
         "17",
         "Spain",
         "0"
        ],
        [
         "18",
         "Spain",
         "1"
        ],
        [
         "19",
         "France",
         "0"
        ],
        [
         "20",
         "France",
         "1"
        ],
        [
         "21",
         "Spain",
         "0"
        ],
        [
         "22",
         "Spain",
         "0"
        ],
        [
         "23",
         "France",
         "1"
        ],
        [
         "24",
         "France",
         "0"
        ],
        [
         "25",
         "France",
         "1"
        ],
        [
         "26",
         "Germany",
         "1"
        ],
        [
         "27",
         "France",
         "1"
        ],
        [
         "28",
         "Germany",
         "0"
        ],
        [
         "29",
         "France",
         "1"
        ],
        [
         "30",
         "Spain",
         "0"
        ],
        [
         "31",
         "France",
         "1"
        ],
        [
         "32",
         "Germany",
         "1"
        ],
        [
         "33",
         "Spain",
         "0"
        ],
        [
         "34",
         "Spain",
         "0"
        ],
        [
         "35",
         "France",
         "0"
        ],
        [
         "36",
         "Spain",
         "1"
        ],
        [
         "37",
         "Spain",
         "1"
        ],
        [
         "38",
         "France",
         "1"
        ],
        [
         "39",
         "Germany",
         "1"
        ],
        [
         "40",
         "Spain",
         "1"
        ],
        [
         "41",
         "France",
         "0"
        ],
        [
         "42",
         "France",
         "0"
        ],
        [
         "43",
         "France",
         "0"
        ],
        [
         "44",
         "Spain",
         "0"
        ],
        [
         "45",
         "Germany",
         "0"
        ],
        [
         "46",
         "Germany",
         "0"
        ],
        [
         "47",
         "Germany",
         "0"
        ],
        [
         "48",
         "Germany",
         "1"
        ],
        [
         "49",
         "Germany",
         "0"
        ]
       ],
       "shape": {
        "columns": 2,
        "rows": 10000
       }
      },
      "text/html": [
       "<div>\n",
       "<style scoped>\n",
       "    .dataframe tbody tr th:only-of-type {\n",
       "        vertical-align: middle;\n",
       "    }\n",
       "\n",
       "    .dataframe tbody tr th {\n",
       "        vertical-align: top;\n",
       "    }\n",
       "\n",
       "    .dataframe thead th {\n",
       "        text-align: right;\n",
       "    }\n",
       "</style>\n",
       "<table border=\"1\" class=\"dataframe\">\n",
       "  <thead>\n",
       "    <tr style=\"text-align: right;\">\n",
       "      <th></th>\n",
       "      <th>Geography</th>\n",
       "      <th>Gender</th>\n",
       "    </tr>\n",
       "  </thead>\n",
       "  <tbody>\n",
       "    <tr>\n",
       "      <th>0</th>\n",
       "      <td>France</td>\n",
       "      <td>0</td>\n",
       "    </tr>\n",
       "    <tr>\n",
       "      <th>1</th>\n",
       "      <td>Spain</td>\n",
       "      <td>0</td>\n",
       "    </tr>\n",
       "    <tr>\n",
       "      <th>2</th>\n",
       "      <td>France</td>\n",
       "      <td>0</td>\n",
       "    </tr>\n",
       "    <tr>\n",
       "      <th>3</th>\n",
       "      <td>France</td>\n",
       "      <td>0</td>\n",
       "    </tr>\n",
       "    <tr>\n",
       "      <th>4</th>\n",
       "      <td>Spain</td>\n",
       "      <td>0</td>\n",
       "    </tr>\n",
       "    <tr>\n",
       "      <th>...</th>\n",
       "      <td>...</td>\n",
       "      <td>...</td>\n",
       "    </tr>\n",
       "    <tr>\n",
       "      <th>9995</th>\n",
       "      <td>France</td>\n",
       "      <td>1</td>\n",
       "    </tr>\n",
       "    <tr>\n",
       "      <th>9996</th>\n",
       "      <td>France</td>\n",
       "      <td>1</td>\n",
       "    </tr>\n",
       "    <tr>\n",
       "      <th>9997</th>\n",
       "      <td>France</td>\n",
       "      <td>0</td>\n",
       "    </tr>\n",
       "    <tr>\n",
       "      <th>9998</th>\n",
       "      <td>Germany</td>\n",
       "      <td>1</td>\n",
       "    </tr>\n",
       "    <tr>\n",
       "      <th>9999</th>\n",
       "      <td>France</td>\n",
       "      <td>0</td>\n",
       "    </tr>\n",
       "  </tbody>\n",
       "</table>\n",
       "<p>10000 rows × 2 columns</p>\n",
       "</div>"
      ],
      "text/plain": [
       "     Geography  Gender\n",
       "0       France       0\n",
       "1        Spain       0\n",
       "2       France       0\n",
       "3       France       0\n",
       "4        Spain       0\n",
       "...        ...     ...\n",
       "9995    France       1\n",
       "9996    France       1\n",
       "9997    France       0\n",
       "9998   Germany       1\n",
       "9999    France       0\n",
       "\n",
       "[10000 rows x 2 columns]"
      ]
     },
     "execution_count": 122,
     "metadata": {},
     "output_type": "execute_result"
    }
   ],
   "source": [
    "#Geography and Gender are categorical features\n",
    "#each having 3 and 2 unique values respectively.\n",
    "labEnco=LabelEncoder()\n",
    "X['Gender'] = labEnco.fit_transform(X['Gender'])\n",
    "#X['Geography'] = labEnco.fit_transform(X['Geography'])\n",
    "X[cat_features]"
   ]
  },
  {
   "cell_type": "code",
   "execution_count": 123,
   "id": "ce86f0a8",
   "metadata": {},
   "outputs": [],
   "source": [
    "#Since ANN is all about calculations thus somehow France<Spain<Germany weight wise \n",
    "#wouldn't affect much if we use LabelEncoder for Gender\n",
    "#thus we will use OHE and not LabelEncoder for Location\n",
    "#OHE MANUAL METHOD\n",
    "OHE = OneHotEncoder()\n",
    "geo_encoded= OHE.fit_transform(X[['Geography']]).toarray() # -> we have created a sparse matrix of geo_encoding\n",
    "geo_cols = OHE.get_feature_names_out(['Geography']) # -> ['Geography_France' 'Geography_Germany' 'Geography_Spain']\n",
    "geo_df = pd.DataFrame(geo_encoded, columns=geo_cols) # -> creating a DataFrame for the encoded geography\n",
    "X = pd.concat([X.drop('Geography', axis=1), geo_df], axis=1) # -> concatenating the original DataFrame with the new one\n",
    "\n",
    "\n"
   ]
  },
  {
   "cell_type": "code",
   "execution_count": 124,
   "id": "64f9e3fb",
   "metadata": {},
   "outputs": [],
   "source": [
    "#X = pd.get_dummies(X, columns=['Geography'])  automatically hot encodes the provided column"
   ]
  },
  {
   "cell_type": "code",
   "execution_count": 125,
   "id": "ed89f395",
   "metadata": {},
   "outputs": [],
   "source": [
    "#Saving as pickle format for encoding Files\n",
    "with open('/home/alkanol/Desktop/bankRunners/artifacts/Label_Encoder_Gender.pkl', 'wb') as f:\n",
    "    pickle.dump(labEnco, f)\n",
    "with open('/home/alkanol/Desktop/bankRunners/artifacts/OneHotEncoder_Geography.pkl', 'wb') as f:\n",
    "    pickle.dump(OHE, f)\n"
   ]
  },
  {
   "cell_type": "code",
   "execution_count": 136,
   "metadata": {},
   "outputs": [
    {
     "data": {
      "application/vnd.microsoft.datawrangler.viewer.v0+json": {
       "columns": [
        {
         "name": "index",
         "rawType": "int64",
         "type": "integer"
        },
        {
         "name": "CreditScore",
         "rawType": "int64",
         "type": "integer"
        },
        {
         "name": "Gender",
         "rawType": "int64",
         "type": "integer"
        },
        {
         "name": "Age",
         "rawType": "int64",
         "type": "integer"
        },
        {
         "name": "Tenure",
         "rawType": "int64",
         "type": "integer"
        },
        {
         "name": "Balance",
         "rawType": "float64",
         "type": "float"
        },
        {
         "name": "NumOfProducts",
         "rawType": "int64",
         "type": "integer"
        },
        {
         "name": "HasCrCard",
         "rawType": "int64",
         "type": "integer"
        },
        {
         "name": "IsActiveMember",
         "rawType": "int64",
         "type": "integer"
        },
        {
         "name": "EstimatedSalary",
         "rawType": "float64",
         "type": "float"
        },
        {
         "name": "Geography_France",
         "rawType": "float64",
         "type": "float"
        },
        {
         "name": "Geography_Germany",
         "rawType": "float64",
         "type": "float"
        },
        {
         "name": "Geography_Spain",
         "rawType": "float64",
         "type": "float"
        }
       ],
       "ref": "2e585885-21cb-45ee-877e-6921f10bee10",
       "rows": [
        [
         "9254",
         "686",
         "1",
         "32",
         "6",
         "0.0",
         "2",
         "1",
         "1",
         "179093.26",
         "1.0",
         "0.0",
         "0.0"
        ],
        [
         "1561",
         "632",
         "1",
         "42",
         "4",
         "119624.6",
         "2",
         "1",
         "1",
         "195978.86",
         "0.0",
         "1.0",
         "0.0"
        ],
        [
         "1670",
         "559",
         "1",
         "24",
         "3",
         "114739.92",
         "1",
         "1",
         "0",
         "85891.02",
         "0.0",
         "0.0",
         "1.0"
        ],
        [
         "6087",
         "561",
         "0",
         "27",
         "9",
         "135637.0",
         "1",
         "1",
         "0",
         "153080.4",
         "1.0",
         "0.0",
         "0.0"
        ],
        [
         "6669",
         "517",
         "1",
         "56",
         "9",
         "142147.32",
         "1",
         "0",
         "0",
         "39488.04",
         "1.0",
         "0.0",
         "0.0"
        ],
        [
         "5933",
         "569",
         "1",
         "41",
         "4",
         "120243.49",
         "1",
         "1",
         "0",
         "163150.03",
         "1.0",
         "0.0",
         "0.0"
        ],
        [
         "8829",
         "683",
         "0",
         "40",
         "1",
         "0.0",
         "2",
         "0",
         "0",
         "75762.0",
         "1.0",
         "0.0",
         "0.0"
        ],
        [
         "7945",
         "759",
         "0",
         "45",
         "8",
         "0.0",
         "2",
         "1",
         "1",
         "99251.24",
         "1.0",
         "0.0",
         "0.0"
        ],
        [
         "3508",
         "426",
         "0",
         "34",
         "3",
         "0.0",
         "2",
         "1",
         "1",
         "61230.83",
         "1.0",
         "0.0",
         "0.0"
        ],
        [
         "2002",
         "601",
         "1",
         "74",
         "2",
         "0.0",
         "2",
         "0",
         "1",
         "51554.58",
         "1.0",
         "0.0",
         "0.0"
        ],
        [
         "5866",
         "735",
         "0",
         "53",
         "8",
         "123845.36",
         "2",
         "0",
         "1",
         "170454.93",
         "1.0",
         "0.0",
         "0.0"
        ],
        [
         "168",
         "667",
         "0",
         "39",
         "2",
         "0.0",
         "2",
         "1",
         "0",
         "40721.24",
         "0.0",
         "0.0",
         "1.0"
        ],
        [
         "2588",
         "741",
         "1",
         "32",
         "5",
         "0.0",
         "1",
         "1",
         "1",
         "64839.23",
         "1.0",
         "0.0",
         "0.0"
        ],
        [
         "5905",
         "511",
         "0",
         "30",
         "5",
         "0.0",
         "2",
         "1",
         "0",
         "143994.86",
         "1.0",
         "0.0",
         "0.0"
        ],
        [
         "9529",
         "508",
         "0",
         "41",
         "5",
         "0.0",
         "2",
         "1",
         "1",
         "94170.84",
         "1.0",
         "0.0",
         "0.0"
        ],
        [
         "6384",
         "529",
         "0",
         "31",
         "7",
         "0.0",
         "2",
         "1",
         "1",
         "175697.87",
         "1.0",
         "0.0",
         "0.0"
        ],
        [
         "7824",
         "673",
         "0",
         "44",
         "8",
         "133444.97",
         "1",
         "0",
         "1",
         "5708.19",
         "1.0",
         "0.0",
         "0.0"
        ],
        [
         "9779",
         "515",
         "1",
         "40",
         "10",
         "121355.99",
         "1",
         "1",
         "0",
         "138360.29",
         "0.0",
         "0.0",
         "1.0"
        ],
        [
         "4629",
         "850",
         "1",
         "49",
         "8",
         "98649.55",
         "1",
         "1",
         "0",
         "119174.88",
         "0.0",
         "1.0",
         "0.0"
        ],
        [
         "8560",
         "627",
         "1",
         "28",
         "5",
         "71097.23",
         "1",
         "1",
         "1",
         "130504.49",
         "0.0",
         "1.0",
         "0.0"
        ],
        [
         "9291",
         "636",
         "1",
         "36",
         "5",
         "117559.05",
         "2",
         "1",
         "1",
         "111573.3",
         "1.0",
         "0.0",
         "0.0"
        ],
        [
         "6874",
         "798",
         "1",
         "28",
         "3",
         "0.0",
         "2",
         "1",
         "0",
         "2305.27",
         "1.0",
         "0.0",
         "0.0"
        ],
        [
         "6521",
         "700",
         "1",
         "35",
         "4",
         "95853.39",
         "2",
         "1",
         "0",
         "192933.37",
         "0.0",
         "1.0",
         "0.0"
        ],
        [
         "8979",
         "514",
         "1",
         "35",
         "3",
         "121030.9",
         "1",
         "1",
         "0",
         "10008.68",
         "1.0",
         "0.0",
         "0.0"
        ],
        [
         "6647",
         "713",
         "0",
         "37",
         "8",
         "0.0",
         "1",
         "1",
         "1",
         "16403.41",
         "1.0",
         "0.0",
         "0.0"
        ],
        [
         "9825",
         "467",
         "1",
         "28",
         "10",
         "126315.26",
         "1",
         "1",
         "0",
         "32349.29",
         "0.0",
         "1.0",
         "0.0"
        ],
        [
         "210",
         "689",
         "1",
         "33",
         "2",
         "161814.64",
         "2",
         "1",
         "0",
         "169381.9",
         "0.0",
         "1.0",
         "0.0"
        ],
        [
         "5278",
         "510",
         "1",
         "31",
         "0",
         "113688.63",
         "1",
         "1",
         "0",
         "33099.41",
         "0.0",
         "1.0",
         "0.0"
        ],
        [
         "1919",
         "618",
         "1",
         "56",
         "7",
         "0.0",
         "1",
         "1",
         "1",
         "142400.27",
         "1.0",
         "0.0",
         "0.0"
        ],
        [
         "718",
         "474",
         "1",
         "45",
         "10",
         "0.0",
         "2",
         "0",
         "0",
         "172175.9",
         "1.0",
         "0.0",
         "0.0"
        ],
        [
         "4868",
         "754",
         "1",
         "37",
         "6",
         "0.0",
         "1",
         "1",
         "1",
         "116141.72",
         "1.0",
         "0.0",
         "0.0"
        ],
        [
         "7834",
         "703",
         "1",
         "56",
         "9",
         "0.0",
         "1",
         "0",
         "0",
         "85547.33",
         "1.0",
         "0.0",
         "0.0"
        ],
        [
         "1298",
         "683",
         "1",
         "30",
         "10",
         "57657.49",
         "1",
         "0",
         "0",
         "79240.9",
         "1.0",
         "0.0",
         "0.0"
        ],
        [
         "9193",
         "597",
         "0",
         "26",
         "8",
         "149989.39",
         "1",
         "1",
         "0",
         "42330.58",
         "1.0",
         "0.0",
         "0.0"
        ],
        [
         "4617",
         "812",
         "1",
         "24",
         "10",
         "0.0",
         "2",
         "1",
         "1",
         "156906.15",
         "1.0",
         "0.0",
         "0.0"
        ],
        [
         "3128",
         "832",
         "0",
         "34",
         "6",
         "138190.13",
         "2",
         "0",
         "1",
         "146511.2",
         "0.0",
         "0.0",
         "1.0"
        ],
        [
         "9795",
         "506",
         "1",
         "43",
         "2",
         "0.0",
         "2",
         "1",
         "0",
         "105568.6",
         "1.0",
         "0.0",
         "0.0"
        ],
        [
         "3979",
         "685",
         "0",
         "40",
         "7",
         "0.0",
         "1",
         "1",
         "0",
         "72852.74",
         "1.0",
         "0.0",
         "0.0"
        ],
        [
         "9924",
         "632",
         "0",
         "50",
         "5",
         "107959.39",
         "1",
         "1",
         "1",
         "6985.34",
         "0.0",
         "1.0",
         "0.0"
        ],
        [
         "8317",
         "666",
         "0",
         "27",
         "4",
         "0.0",
         "2",
         "0",
         "0",
         "88751.45",
         "1.0",
         "0.0",
         "0.0"
        ],
        [
         "4393",
         "775",
         "0",
         "38",
         "6",
         "179886.41",
         "2",
         "0",
         "0",
         "153122.58",
         "0.0",
         "1.0",
         "0.0"
        ],
        [
         "1287",
         "698",
         "0",
         "39",
         "9",
         "161993.89",
         "1",
         "0",
         "0",
         "90212.38",
         "0.0",
         "0.0",
         "1.0"
        ],
        [
         "4355",
         "657",
         "0",
         "39",
         "4",
         "80293.81",
         "1",
         "1",
         "0",
         "97192.76",
         "1.0",
         "0.0",
         "0.0"
        ],
        [
         "7013",
         "748",
         "0",
         "34",
         "8",
         "0.0",
         "2",
         "1",
         "0",
         "53584.03",
         "1.0",
         "0.0",
         "0.0"
        ],
        [
         "3885",
         "642",
         "0",
         "56",
         "6",
         "103244.86",
         "2",
         "1",
         "0",
         "143049.72",
         "0.0",
         "1.0",
         "0.0"
        ],
        [
         "5749",
         "844",
         "0",
         "29",
         "8",
         "0.0",
         "2",
         "0",
         "0",
         "147342.03",
         "1.0",
         "0.0",
         "0.0"
        ],
        [
         "9169",
         "766",
         "0",
         "45",
         "6",
         "0.0",
         "2",
         "0",
         "0",
         "147184.74",
         "1.0",
         "0.0",
         "0.0"
        ],
        [
         "2407",
         "708",
         "0",
         "43",
         "0",
         "118994.84",
         "1",
         "1",
         "0",
         "181499.77",
         "0.0",
         "1.0",
         "0.0"
        ],
        [
         "2013",
         "705",
         "1",
         "35",
         "4",
         "136496.12",
         "2",
         "1",
         "0",
         "116672.02",
         "0.0",
         "1.0",
         "0.0"
        ],
        [
         "5153",
         "695",
         "0",
         "29",
         "9",
         "0.0",
         "2",
         "1",
         "0",
         "111565.45",
         "1.0",
         "0.0",
         "0.0"
        ]
       ],
       "shape": {
        "columns": 12,
        "rows": 8000
       }
      },
      "text/html": [
       "<div>\n",
       "<style scoped>\n",
       "    .dataframe tbody tr th:only-of-type {\n",
       "        vertical-align: middle;\n",
       "    }\n",
       "\n",
       "    .dataframe tbody tr th {\n",
       "        vertical-align: top;\n",
       "    }\n",
       "\n",
       "    .dataframe thead th {\n",
       "        text-align: right;\n",
       "    }\n",
       "</style>\n",
       "<table border=\"1\" class=\"dataframe\">\n",
       "  <thead>\n",
       "    <tr style=\"text-align: right;\">\n",
       "      <th></th>\n",
       "      <th>CreditScore</th>\n",
       "      <th>Gender</th>\n",
       "      <th>Age</th>\n",
       "      <th>Tenure</th>\n",
       "      <th>Balance</th>\n",
       "      <th>NumOfProducts</th>\n",
       "      <th>HasCrCard</th>\n",
       "      <th>IsActiveMember</th>\n",
       "      <th>EstimatedSalary</th>\n",
       "      <th>Geography_France</th>\n",
       "      <th>Geography_Germany</th>\n",
       "      <th>Geography_Spain</th>\n",
       "    </tr>\n",
       "  </thead>\n",
       "  <tbody>\n",
       "    <tr>\n",
       "      <th>9254</th>\n",
       "      <td>686</td>\n",
       "      <td>1</td>\n",
       "      <td>32</td>\n",
       "      <td>6</td>\n",
       "      <td>0.00</td>\n",
       "      <td>2</td>\n",
       "      <td>1</td>\n",
       "      <td>1</td>\n",
       "      <td>179093.26</td>\n",
       "      <td>1.0</td>\n",
       "      <td>0.0</td>\n",
       "      <td>0.0</td>\n",
       "    </tr>\n",
       "    <tr>\n",
       "      <th>1561</th>\n",
       "      <td>632</td>\n",
       "      <td>1</td>\n",
       "      <td>42</td>\n",
       "      <td>4</td>\n",
       "      <td>119624.60</td>\n",
       "      <td>2</td>\n",
       "      <td>1</td>\n",
       "      <td>1</td>\n",
       "      <td>195978.86</td>\n",
       "      <td>0.0</td>\n",
       "      <td>1.0</td>\n",
       "      <td>0.0</td>\n",
       "    </tr>\n",
       "    <tr>\n",
       "      <th>1670</th>\n",
       "      <td>559</td>\n",
       "      <td>1</td>\n",
       "      <td>24</td>\n",
       "      <td>3</td>\n",
       "      <td>114739.92</td>\n",
       "      <td>1</td>\n",
       "      <td>1</td>\n",
       "      <td>0</td>\n",
       "      <td>85891.02</td>\n",
       "      <td>0.0</td>\n",
       "      <td>0.0</td>\n",
       "      <td>1.0</td>\n",
       "    </tr>\n",
       "    <tr>\n",
       "      <th>6087</th>\n",
       "      <td>561</td>\n",
       "      <td>0</td>\n",
       "      <td>27</td>\n",
       "      <td>9</td>\n",
       "      <td>135637.00</td>\n",
       "      <td>1</td>\n",
       "      <td>1</td>\n",
       "      <td>0</td>\n",
       "      <td>153080.40</td>\n",
       "      <td>1.0</td>\n",
       "      <td>0.0</td>\n",
       "      <td>0.0</td>\n",
       "    </tr>\n",
       "    <tr>\n",
       "      <th>6669</th>\n",
       "      <td>517</td>\n",
       "      <td>1</td>\n",
       "      <td>56</td>\n",
       "      <td>9</td>\n",
       "      <td>142147.32</td>\n",
       "      <td>1</td>\n",
       "      <td>0</td>\n",
       "      <td>0</td>\n",
       "      <td>39488.04</td>\n",
       "      <td>1.0</td>\n",
       "      <td>0.0</td>\n",
       "      <td>0.0</td>\n",
       "    </tr>\n",
       "    <tr>\n",
       "      <th>...</th>\n",
       "      <td>...</td>\n",
       "      <td>...</td>\n",
       "      <td>...</td>\n",
       "      <td>...</td>\n",
       "      <td>...</td>\n",
       "      <td>...</td>\n",
       "      <td>...</td>\n",
       "      <td>...</td>\n",
       "      <td>...</td>\n",
       "      <td>...</td>\n",
       "      <td>...</td>\n",
       "      <td>...</td>\n",
       "    </tr>\n",
       "    <tr>\n",
       "      <th>5734</th>\n",
       "      <td>768</td>\n",
       "      <td>1</td>\n",
       "      <td>54</td>\n",
       "      <td>8</td>\n",
       "      <td>69712.74</td>\n",
       "      <td>1</td>\n",
       "      <td>1</td>\n",
       "      <td>1</td>\n",
       "      <td>69381.05</td>\n",
       "      <td>1.0</td>\n",
       "      <td>0.0</td>\n",
       "      <td>0.0</td>\n",
       "    </tr>\n",
       "    <tr>\n",
       "      <th>5191</th>\n",
       "      <td>682</td>\n",
       "      <td>0</td>\n",
       "      <td>58</td>\n",
       "      <td>1</td>\n",
       "      <td>0.00</td>\n",
       "      <td>1</td>\n",
       "      <td>1</td>\n",
       "      <td>1</td>\n",
       "      <td>706.50</td>\n",
       "      <td>1.0</td>\n",
       "      <td>0.0</td>\n",
       "      <td>0.0</td>\n",
       "    </tr>\n",
       "    <tr>\n",
       "      <th>5390</th>\n",
       "      <td>735</td>\n",
       "      <td>0</td>\n",
       "      <td>38</td>\n",
       "      <td>1</td>\n",
       "      <td>0.00</td>\n",
       "      <td>3</td>\n",
       "      <td>0</td>\n",
       "      <td>0</td>\n",
       "      <td>92220.12</td>\n",
       "      <td>1.0</td>\n",
       "      <td>0.0</td>\n",
       "      <td>0.0</td>\n",
       "    </tr>\n",
       "    <tr>\n",
       "      <th>860</th>\n",
       "      <td>667</td>\n",
       "      <td>1</td>\n",
       "      <td>43</td>\n",
       "      <td>8</td>\n",
       "      <td>190227.46</td>\n",
       "      <td>1</td>\n",
       "      <td>1</td>\n",
       "      <td>0</td>\n",
       "      <td>97508.04</td>\n",
       "      <td>1.0</td>\n",
       "      <td>0.0</td>\n",
       "      <td>0.0</td>\n",
       "    </tr>\n",
       "    <tr>\n",
       "      <th>7270</th>\n",
       "      <td>697</td>\n",
       "      <td>1</td>\n",
       "      <td>51</td>\n",
       "      <td>1</td>\n",
       "      <td>147910.30</td>\n",
       "      <td>1</td>\n",
       "      <td>1</td>\n",
       "      <td>1</td>\n",
       "      <td>53581.14</td>\n",
       "      <td>0.0</td>\n",
       "      <td>1.0</td>\n",
       "      <td>0.0</td>\n",
       "    </tr>\n",
       "  </tbody>\n",
       "</table>\n",
       "<p>8000 rows × 12 columns</p>\n",
       "</div>"
      ],
      "text/plain": [
       "      CreditScore  Gender  Age  Tenure    Balance  NumOfProducts  HasCrCard  \\\n",
       "9254          686       1   32       6       0.00              2          1   \n",
       "1561          632       1   42       4  119624.60              2          1   \n",
       "1670          559       1   24       3  114739.92              1          1   \n",
       "6087          561       0   27       9  135637.00              1          1   \n",
       "6669          517       1   56       9  142147.32              1          0   \n",
       "...           ...     ...  ...     ...        ...            ...        ...   \n",
       "5734          768       1   54       8   69712.74              1          1   \n",
       "5191          682       0   58       1       0.00              1          1   \n",
       "5390          735       0   38       1       0.00              3          0   \n",
       "860           667       1   43       8  190227.46              1          1   \n",
       "7270          697       1   51       1  147910.30              1          1   \n",
       "\n",
       "      IsActiveMember  EstimatedSalary  Geography_France  Geography_Germany  \\\n",
       "9254               1        179093.26               1.0                0.0   \n",
       "1561               1        195978.86               0.0                1.0   \n",
       "1670               0         85891.02               0.0                0.0   \n",
       "6087               0        153080.40               1.0                0.0   \n",
       "6669               0         39488.04               1.0                0.0   \n",
       "...              ...              ...               ...                ...   \n",
       "5734               1         69381.05               1.0                0.0   \n",
       "5191               1           706.50               1.0                0.0   \n",
       "5390               0         92220.12               1.0                0.0   \n",
       "860                0         97508.04               1.0                0.0   \n",
       "7270               1         53581.14               0.0                1.0   \n",
       "\n",
       "      Geography_Spain  \n",
       "9254              0.0  \n",
       "1561              0.0  \n",
       "1670              1.0  \n",
       "6087              0.0  \n",
       "6669              0.0  \n",
       "...               ...  \n",
       "5734              0.0  \n",
       "5191              0.0  \n",
       "5390              0.0  \n",
       "860               0.0  \n",
       "7270              0.0  \n",
       "\n",
       "[8000 rows x 12 columns]"
      ]
     },
     "execution_count": 136,
     "metadata": {},
     "output_type": "execute_result"
    }
   ],
   "source": [
    "#Independent & Dependent Allocation\n",
    "X=X\n",
    "y=y\n",
    "#As we have already performed operations on them and not on the csv_data itself\n",
    "X_train,X_test,y_train,y_test = train_test_split(X,y,test_size = 0.2,random_state=42)\n",
    "X_train"
   ]
  },
  {
   "cell_type": "code",
   "execution_count": 127,
   "metadata": {},
   "outputs": [],
   "source": [
    "#Standardising_the_Data\n",
    "scaler=StandardScaler()\n",
    "X_train = scaler.fit_transform(X_train)\n",
    "X_test  = scaler.transform(X_test)\n",
    "\n",
    "with open(\"/home/alkanol/Desktop/bankRunners/artifacts/scaler.pkl\",'wb') as f:\n",
    "    pickle.dump(scaler,f)"
   ]
  },
  {
   "cell_type": "markdown",
   "id": "6ebe3c44",
   "metadata": {},
   "source": [
    "### Using ANN"
   ]
  },
  {
   "cell_type": "code",
   "execution_count": 128,
   "id": "8c073ecc",
   "metadata": {},
   "outputs": [],
   "source": [
    "import tensorflow as tf \n",
    "from tensorflow.keras.models import Sequential \n",
    "from tensorflow.keras.layers import Dense, Dropout\n",
    "from tensorflow.keras.callbacks import EarlyStopping,TensorBoard\n",
    "import datetime as dt \n"
   ]
  },
  {
   "cell_type": "code",
   "execution_count": 129,
   "id": "5c6d9445",
   "metadata": {},
   "outputs": [
    {
     "name": "stderr",
     "output_type": "stream",
     "text": [
      "/home/alkanol/Desktop/bankRunners/.venv/lib/python3.11/site-packages/keras/src/layers/core/dense.py:92: UserWarning: Do not pass an `input_shape`/`input_dim` argument to a layer. When using Sequential models, prefer using an `Input(shape)` object as the first layer in the model instead.\n",
      "  super().__init__(activity_regularizer=activity_regularizer, **kwargs)\n"
     ]
    },
    {
     "data": {
      "text/html": [
       "<pre style=\"white-space:pre;overflow-x:auto;line-height:normal;font-family:Menlo,'DejaVu Sans Mono',consolas,'Courier New',monospace\"><span style=\"font-weight: bold\">Model: \"sequential_4\"</span>\n",
       "</pre>\n"
      ],
      "text/plain": [
       "\u001b[1mModel: \"sequential_4\"\u001b[0m\n"
      ]
     },
     "metadata": {},
     "output_type": "display_data"
    },
    {
     "data": {
      "text/html": [
       "<pre style=\"white-space:pre;overflow-x:auto;line-height:normal;font-family:Menlo,'DejaVu Sans Mono',consolas,'Courier New',monospace\">┏━━━━━━━━━━━━━━━━━━━━━━━━━━━━━━━━━┳━━━━━━━━━━━━━━━━━━━━━━━━┳━━━━━━━━━━━━━━━┓\n",
       "┃<span style=\"font-weight: bold\"> Layer (type)                    </span>┃<span style=\"font-weight: bold\"> Output Shape           </span>┃<span style=\"font-weight: bold\">       Param # </span>┃\n",
       "┡━━━━━━━━━━━━━━━━━━━━━━━━━━━━━━━━━╇━━━━━━━━━━━━━━━━━━━━━━━━╇━━━━━━━━━━━━━━━┩\n",
       "│ dense_12 (<span style=\"color: #0087ff; text-decoration-color: #0087ff\">Dense</span>)                │ (<span style=\"color: #00d7ff; text-decoration-color: #00d7ff\">None</span>, <span style=\"color: #00af00; text-decoration-color: #00af00\">64</span>)             │           <span style=\"color: #00af00; text-decoration-color: #00af00\">832</span> │\n",
       "├─────────────────────────────────┼────────────────────────┼───────────────┤\n",
       "│ dense_13 (<span style=\"color: #0087ff; text-decoration-color: #0087ff\">Dense</span>)                │ (<span style=\"color: #00d7ff; text-decoration-color: #00d7ff\">None</span>, <span style=\"color: #00af00; text-decoration-color: #00af00\">32</span>)             │         <span style=\"color: #00af00; text-decoration-color: #00af00\">2,080</span> │\n",
       "├─────────────────────────────────┼────────────────────────┼───────────────┤\n",
       "│ dense_14 (<span style=\"color: #0087ff; text-decoration-color: #0087ff\">Dense</span>)                │ (<span style=\"color: #00d7ff; text-decoration-color: #00d7ff\">None</span>, <span style=\"color: #00af00; text-decoration-color: #00af00\">1</span>)              │            <span style=\"color: #00af00; text-decoration-color: #00af00\">33</span> │\n",
       "└─────────────────────────────────┴────────────────────────┴───────────────┘\n",
       "</pre>\n"
      ],
      "text/plain": [
       "┏━━━━━━━━━━━━━━━━━━━━━━━━━━━━━━━━━┳━━━━━━━━━━━━━━━━━━━━━━━━┳━━━━━━━━━━━━━━━┓\n",
       "┃\u001b[1m \u001b[0m\u001b[1mLayer (type)                   \u001b[0m\u001b[1m \u001b[0m┃\u001b[1m \u001b[0m\u001b[1mOutput Shape          \u001b[0m\u001b[1m \u001b[0m┃\u001b[1m \u001b[0m\u001b[1m      Param #\u001b[0m\u001b[1m \u001b[0m┃\n",
       "┡━━━━━━━━━━━━━━━━━━━━━━━━━━━━━━━━━╇━━━━━━━━━━━━━━━━━━━━━━━━╇━━━━━━━━━━━━━━━┩\n",
       "│ dense_12 (\u001b[38;5;33mDense\u001b[0m)                │ (\u001b[38;5;45mNone\u001b[0m, \u001b[38;5;34m64\u001b[0m)             │           \u001b[38;5;34m832\u001b[0m │\n",
       "├─────────────────────────────────┼────────────────────────┼───────────────┤\n",
       "│ dense_13 (\u001b[38;5;33mDense\u001b[0m)                │ (\u001b[38;5;45mNone\u001b[0m, \u001b[38;5;34m32\u001b[0m)             │         \u001b[38;5;34m2,080\u001b[0m │\n",
       "├─────────────────────────────────┼────────────────────────┼───────────────┤\n",
       "│ dense_14 (\u001b[38;5;33mDense\u001b[0m)                │ (\u001b[38;5;45mNone\u001b[0m, \u001b[38;5;34m1\u001b[0m)              │            \u001b[38;5;34m33\u001b[0m │\n",
       "└─────────────────────────────────┴────────────────────────┴───────────────┘\n"
      ]
     },
     "metadata": {},
     "output_type": "display_data"
    },
    {
     "data": {
      "text/html": [
       "<pre style=\"white-space:pre;overflow-x:auto;line-height:normal;font-family:Menlo,'DejaVu Sans Mono',consolas,'Courier New',monospace\"><span style=\"font-weight: bold\"> Total params: </span><span style=\"color: #00af00; text-decoration-color: #00af00\">2,945</span> (11.50 KB)\n",
       "</pre>\n"
      ],
      "text/plain": [
       "\u001b[1m Total params: \u001b[0m\u001b[38;5;34m2,945\u001b[0m (11.50 KB)\n"
      ]
     },
     "metadata": {},
     "output_type": "display_data"
    },
    {
     "data": {
      "text/html": [
       "<pre style=\"white-space:pre;overflow-x:auto;line-height:normal;font-family:Menlo,'DejaVu Sans Mono',consolas,'Courier New',monospace\"><span style=\"font-weight: bold\"> Trainable params: </span><span style=\"color: #00af00; text-decoration-color: #00af00\">2,945</span> (11.50 KB)\n",
       "</pre>\n"
      ],
      "text/plain": [
       "\u001b[1m Trainable params: \u001b[0m\u001b[38;5;34m2,945\u001b[0m (11.50 KB)\n"
      ]
     },
     "metadata": {},
     "output_type": "display_data"
    },
    {
     "data": {
      "text/html": [
       "<pre style=\"white-space:pre;overflow-x:auto;line-height:normal;font-family:Menlo,'DejaVu Sans Mono',consolas,'Courier New',monospace\"><span style=\"font-weight: bold\"> Non-trainable params: </span><span style=\"color: #00af00; text-decoration-color: #00af00\">0</span> (0.00 B)\n",
       "</pre>\n"
      ],
      "text/plain": [
       "\u001b[1m Non-trainable params: \u001b[0m\u001b[38;5;34m0\u001b[0m (0.00 B)\n"
      ]
     },
     "metadata": {},
     "output_type": "display_data"
    }
   ],
   "source": [
    "model = Sequential(\n",
    "    [\n",
    "        Dense(64,activation='relu',input_shape=(X_train.shape[1],)),\n",
    "        Dense(32,activation='relu'),\n",
    "        Dense(1,activation='sigmoid'),\n",
    "    ]\n",
    ")\n",
    "model.summary()"
   ]
  },
  {
   "cell_type": "code",
   "execution_count": 130,
   "id": "141d5b9e",
   "metadata": {},
   "outputs": [],
   "source": [
    "model.compile(\n",
    "    loss='binary_crossentropy',\n",
    "    optimizer='adam',\n",
    "    metrics=['accuracy']\n",
    ")"
   ]
  },
  {
   "cell_type": "code",
   "execution_count": 131,
   "id": "eb985d1c",
   "metadata": {},
   "outputs": [],
   "source": [
    "#Tensorboard\n",
    "logs_dir = \"/home/alkanol/Desktop/bankRunners/logs/fit/\" + dt.datetime.now().strftime(\"%Y%m%d-%H%M%S\")\n",
    "tensorboard_callback = TensorBoard(log_dir=logs_dir, histogram_freq=1)"
   ]
  },
  {
   "cell_type": "code",
   "execution_count": 132,
   "id": "a11bd214",
   "metadata": {},
   "outputs": [],
   "source": [
    "#Early Stopping\n",
    "early_stopping = EarlyStopping(\n",
    "    monitor='val_loss',\n",
    "    patience=5,\n",
    "    restore_best_weights=True\n",
    ")\n"
   ]
  },
  {
   "cell_type": "code",
   "execution_count": 133,
   "id": "7cea9720",
   "metadata": {},
   "outputs": [
    {
     "name": "stdout",
     "output_type": "stream",
     "text": [
      "Epoch 1/100\n",
      "\u001b[1m250/250\u001b[0m \u001b[32m━━━━━━━━━━━━━━━━━━━━\u001b[0m\u001b[37m\u001b[0m \u001b[1m4s\u001b[0m 7ms/step - accuracy: 0.8056 - loss: 0.4581 - val_accuracy: 0.8330 - val_loss: 0.3940\n",
      "Epoch 2/100\n",
      "\u001b[1m250/250\u001b[0m \u001b[32m━━━━━━━━━━━━━━━━━━━━\u001b[0m\u001b[37m\u001b[0m \u001b[1m1s\u001b[0m 5ms/step - accuracy: 0.8441 - loss: 0.3831 - val_accuracy: 0.8570 - val_loss: 0.3573\n",
      "Epoch 3/100\n",
      "\u001b[1m250/250\u001b[0m \u001b[32m━━━━━━━━━━━━━━━━━━━━\u001b[0m\u001b[37m\u001b[0m \u001b[1m1s\u001b[0m 5ms/step - accuracy: 0.8564 - loss: 0.3542 - val_accuracy: 0.8505 - val_loss: 0.3490\n",
      "Epoch 4/100\n",
      "\u001b[1m250/250\u001b[0m \u001b[32m━━━━━━━━━━━━━━━━━━━━\u001b[0m\u001b[37m\u001b[0m \u001b[1m1s\u001b[0m 5ms/step - accuracy: 0.8589 - loss: 0.3457 - val_accuracy: 0.8575 - val_loss: 0.3443\n",
      "Epoch 5/100\n",
      "\u001b[1m250/250\u001b[0m \u001b[32m━━━━━━━━━━━━━━━━━━━━\u001b[0m\u001b[37m\u001b[0m \u001b[1m1s\u001b[0m 5ms/step - accuracy: 0.8618 - loss: 0.3390 - val_accuracy: 0.8525 - val_loss: 0.3465\n",
      "Epoch 6/100\n",
      "\u001b[1m250/250\u001b[0m \u001b[32m━━━━━━━━━━━━━━━━━━━━\u001b[0m\u001b[37m\u001b[0m \u001b[1m1s\u001b[0m 4ms/step - accuracy: 0.8605 - loss: 0.3363 - val_accuracy: 0.8575 - val_loss: 0.3445\n",
      "Epoch 7/100\n",
      "\u001b[1m250/250\u001b[0m \u001b[32m━━━━━━━━━━━━━━━━━━━━\u001b[0m\u001b[37m\u001b[0m \u001b[1m1s\u001b[0m 5ms/step - accuracy: 0.8606 - loss: 0.3337 - val_accuracy: 0.8590 - val_loss: 0.3436\n",
      "Epoch 8/100\n",
      "\u001b[1m250/250\u001b[0m \u001b[32m━━━━━━━━━━━━━━━━━━━━\u001b[0m\u001b[37m\u001b[0m \u001b[1m1s\u001b[0m 5ms/step - accuracy: 0.8634 - loss: 0.3302 - val_accuracy: 0.8560 - val_loss: 0.3446\n",
      "Epoch 9/100\n",
      "\u001b[1m250/250\u001b[0m \u001b[32m━━━━━━━━━━━━━━━━━━━━\u001b[0m\u001b[37m\u001b[0m \u001b[1m1s\u001b[0m 5ms/step - accuracy: 0.8645 - loss: 0.3286 - val_accuracy: 0.8640 - val_loss: 0.3417\n",
      "Epoch 10/100\n",
      "\u001b[1m250/250\u001b[0m \u001b[32m━━━━━━━━━━━━━━━━━━━━\u001b[0m\u001b[37m\u001b[0m \u001b[1m2s\u001b[0m 5ms/step - accuracy: 0.8649 - loss: 0.3264 - val_accuracy: 0.8640 - val_loss: 0.3415\n",
      "Epoch 11/100\n",
      "\u001b[1m250/250\u001b[0m \u001b[32m━━━━━━━━━━━━━━━━━━━━\u001b[0m\u001b[37m\u001b[0m \u001b[1m1s\u001b[0m 4ms/step - accuracy: 0.8659 - loss: 0.3250 - val_accuracy: 0.8595 - val_loss: 0.3445\n",
      "Epoch 12/100\n",
      "\u001b[1m250/250\u001b[0m \u001b[32m━━━━━━━━━━━━━━━━━━━━\u001b[0m\u001b[37m\u001b[0m \u001b[1m1s\u001b[0m 5ms/step - accuracy: 0.8680 - loss: 0.3219 - val_accuracy: 0.8640 - val_loss: 0.3420\n",
      "Epoch 13/100\n",
      "\u001b[1m250/250\u001b[0m \u001b[32m━━━━━━━━━━━━━━━━━━━━\u001b[0m\u001b[37m\u001b[0m \u001b[1m1s\u001b[0m 5ms/step - accuracy: 0.8666 - loss: 0.3188 - val_accuracy: 0.8610 - val_loss: 0.3419\n",
      "Epoch 14/100\n",
      "\u001b[1m250/250\u001b[0m \u001b[32m━━━━━━━━━━━━━━━━━━━━\u001b[0m\u001b[37m\u001b[0m \u001b[1m1s\u001b[0m 5ms/step - accuracy: 0.8686 - loss: 0.3182 - val_accuracy: 0.8600 - val_loss: 0.3466\n",
      "Epoch 15/100\n",
      "\u001b[1m250/250\u001b[0m \u001b[32m━━━━━━━━━━━━━━━━━━━━\u001b[0m\u001b[37m\u001b[0m \u001b[1m1s\u001b[0m 5ms/step - accuracy: 0.8695 - loss: 0.3169 - val_accuracy: 0.8635 - val_loss: 0.3430\n"
     ]
    }
   ],
   "source": [
    "#Model_Train\n",
    "ann_model = model.fit(\n",
    "    X_train,\n",
    "    y_train,\n",
    "    validation_data=(X_test, y_test),\n",
    "    epochs=100,\n",
    "    batch_size=32,\n",
    "    callbacks=[early_stopping, tensorboard_callback]\n",
    ")\n"
   ]
  },
  {
   "cell_type": "code",
   "execution_count": 134,
   "id": "e8f3cb38",
   "metadata": {},
   "outputs": [
    {
     "name": "stderr",
     "output_type": "stream",
     "text": [
      "WARNING:absl:You are saving your model as an HDF5 file via `model.save()` or `keras.saving.save_model(model)`. This file format is considered legacy. We recommend using instead the native Keras format, e.g. `model.save('my_model.keras')` or `keras.saving.save_model(model, 'my_model.keras')`. \n"
     ]
    }
   ],
   "source": [
    "model.save(\"/home/alkanol/Desktop/bankRunners/artifacts/ann_model.h5\")"
   ]
  },
  {
   "cell_type": "code",
   "execution_count": 135,
   "id": "5e9e00eb",
   "metadata": {},
   "outputs": [
    {
     "name": "stdout",
     "output_type": "stream",
     "text": [
      "The tensorboard extension is already loaded. To reload it, use:\n",
      "  %reload_ext tensorboard\n"
     ]
    }
   ],
   "source": [
    "## Loading Tensorboard Extension\n",
    "%load_ext tensorboard"
   ]
  },
  {
   "cell_type": "code",
   "execution_count": null,
   "id": "c9bef56c",
   "metadata": {},
   "outputs": [],
   "source": [
    "%tensorboard --logdir /home/alkanol/Desktop/bankRunners/logs/fit"
   ]
  }
 ],
 "metadata": {
  "kernelspec": {
   "display_name": ".venv (3.11.2)",
   "language": "python",
   "name": "python3"
  },
  "language_info": {
   "codemirror_mode": {
    "name": "ipython",
    "version": 3
   },
   "file_extension": ".py",
   "mimetype": "text/x-python",
   "name": "python",
   "nbconvert_exporter": "python",
   "pygments_lexer": "ipython3",
   "version": "3.11.2"
  }
 },
 "nbformat": 4,
 "nbformat_minor": 5
}
